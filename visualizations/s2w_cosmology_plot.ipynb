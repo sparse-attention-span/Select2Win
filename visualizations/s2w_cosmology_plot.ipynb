{
 "cells": [
  {
   "cell_type": "code",
   "execution_count": null,
   "id": "5dff1ea3",
   "metadata": {},
   "outputs": [],
   "source": [
    "import wandb\n",
    "import pandas as pd\n",
    "import json"
   ]
  },
  {
   "cell_type": "code",
   "execution_count": null,
   "id": "150cd91b",
   "metadata": {},
   "outputs": [],
   "source": [
    "api = wandb.Api()\n",
    "\n",
    "columns = [\"model\", \"test loss\"]\n",
    "data = []\n",
    "\n",
    "projects = [\"DL2/erwin-cosmology-2\"]\n",
    "\n",
    "for project in projects:\n",
    "    runs = api.runs(project)\n",
    "    for run in runs:\n",
    "        if run.state != \"finished\":\n",
    "            continue\n",
    "\n",
    "        cfg = json.loads(run.json_config)\n",
    "\n",
    "        if cfg[\"size\"][\"value\"] != \"medium\":\n",
    "            continue\n",
    "\n",
    "        model_name = run.name\n",
    "\n",
    "        if \"full_k\" in model_name:\n",
    "            model_name = \"Full Attention\"\n",
    "        elif \"base\" in model_name:\n",
    "            model_name = \"Erwin\"\n",
    "        else:\n",
    "            _, _, topk, _ = model_name.split(\"_\")\n",
    "            model_name = f\"NSA k={topk}\"\n",
    "\n",
    "        df = run.history(samples=1, keys=[\"test/avg/loss\"])\n",
    "        test_loss = df.iloc[0][\"test/avg/loss\"]\n",
    "\n",
    "        data.append([model_name, test_loss])"
   ]
  },
  {
   "cell_type": "code",
   "execution_count": null,
   "id": "1f8b6be8",
   "metadata": {},
   "outputs": [],
   "source": [
    "data = pd.DataFrame(data, columns=columns)\n",
    "data = data.sort_values(by=columns).reset_index(drop=True)\n",
    "data = data.groupby(\"model\").agg([\"mean\", \"std\"])\n",
    "\n",
    "for model_name, score in data.iterrows():\n",
    "    avg = score.loc[\"test loss\", \"mean\"]\n",
    "    std = score.loc[\"test loss\", \"std\"]\n",
    "    print(f\"{model_name} & \\\\({avg:.3f} \\pm {std:.3f}\\\\) \\\\\\\\\")"
   ]
  },
  {
   "cell_type": "code",
   "execution_count": null,
   "id": "d2ef4c15",
   "metadata": {},
   "outputs": [],
   "source": []
  }
 ],
 "metadata": {
  "kernelspec": {
   "display_name": "erwin",
   "language": "python",
   "name": "python3"
  },
  "language_info": {
   "codemirror_mode": {
    "name": "ipython",
    "version": 3
   },
   "file_extension": ".py",
   "mimetype": "text/x-python",
   "name": "python",
   "nbconvert_exporter": "python",
   "pygments_lexer": "ipython3",
   "version": "3.10.12"
  }
 },
 "nbformat": 4,
 "nbformat_minor": 5
}
